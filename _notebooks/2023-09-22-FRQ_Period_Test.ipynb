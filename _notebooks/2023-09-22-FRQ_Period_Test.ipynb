{
 "cells": [
  {
   "cell_type": "code",
   "execution_count": 18,
   "metadata": {},
   "outputs": [
    {
     "name": "stdout",
     "output_type": "stream",
     "text": [
      "10 9 8 7 6 5 4 3 2 1 1 2 3 4 5 6 7 8 9 10 "
     ]
    }
   ],
   "source": [
    "public class ReverseArray {\n",
    "    public static void main(String[] args) {\n",
    "        int[] numArray=new int[10];\n",
    "        for (int i=10; i>0; i--){\n",
    "            numArray[10-i]=i;\n",
    "        }\n",
    "        for (int i=0; i<10; i++){\n",
    "            System.out.print(numArray[i]);\n",
    "            System.out.print(\" \");\n",
    "        }\n",
    "        for (int i=9; i>-1; i--){\n",
    "            System.out.print(numArray[i]);\n",
    "            System.out.print(\" \");\n",
    "        }\n",
    "    }\n",
    "}\n",
    "ReverseArray.main(null);"
   ]
  },
  {
   "cell_type": "code",
   "execution_count": 23,
   "metadata": {},
   "outputs": [
    {
     "name": "stdout",
     "output_type": "stream",
     "text": [
      "4\n",
      "2\n",
      "5\n",
      "3\n",
      "7\n",
      "3\n",
      "2\n",
      "3\n",
      "4\n",
      "2\n"
     ]
    }
   ],
   "source": [
    "import java.util.Random;\n",
    "import java.util.ArrayList;\n",
    "public class RandomList {\n",
    "    public static void main (int n, int min, int max){\n",
    "        int[] randomArray = new int[n];\n",
    "        for (int i=0;i<n;i++){\n",
    "            randomArray[i] = (int) ((Math.random() * (max - min)) + min);\n",
    "        }\n",
    "        for (int i=0;i<n;i++){\n",
    "            System.out.println(randomArray[i]);\n",
    "        }\n",
    "    }\n",
    "}\n",
    "RandomList.main(10,2,8);"
   ]
  },
  {
   "cell_type": "code",
   "execution_count": 29,
   "metadata": {},
   "outputs": [
    {
     "name": "stdout",
     "output_type": "stream",
     "text": [
      "10 9 8 7 6 5 4 3 2 1 1 2 3 4 5 6 7 8 9 10 "
     ]
    },
    {
     "name": "stdout",
     "output_type": "stream",
     "text": [
      "\n",
      "2 3 5 6 6 7 6 4 4 7 "
     ]
    }
   ],
   "source": [
    "import java.util.Random;\n",
    "import java.util.ArrayList;\n",
    "public class RandomList {\n",
    "    public static void main (int n, int min, int max){\n",
    "        int[] randomArray = new int[n];\n",
    "        for (int i=0;i<n;i++){\n",
    "            randomArray[i] = (int) ((Math.random() * (max - min)) + min);\n",
    "        }\n",
    "        for (int i=0;i<n;i++){\n",
    "            System.out.print(randomArray[i]);\n",
    "            System.out.print(\" \");\n",
    "        }\n",
    "    }\n",
    "}\n",
    "\n",
    "public class ReverseArray {\n",
    "    public static void main(String[] args) {\n",
    "        int[] numArray=new int[10];\n",
    "        for (int i=10; i>0; i--){\n",
    "            numArray[10-i]=i;\n",
    "        }\n",
    "        for (int i=0; i<10; i++){\n",
    "            System.out.print(numArray[i]);\n",
    "            System.out.print(\" \");\n",
    "        }\n",
    "        for (int i=9; i>-1; i--){\n",
    "            System.out.print(numArray[i]);\n",
    "            System.out.print(\" \");\n",
    "        }\n",
    "    }\n",
    "}\n",
    "\n",
    "ReverseArray.main(null);\n",
    "System.out.println();\n",
    "RandomList.main(10,2,8);"
   ]
  }
 ],
 "metadata": {
  "kernelspec": {
   "display_name": "Java",
   "language": "java",
   "name": "java"
  },
  "language_info": {
   "codemirror_mode": "java",
   "file_extension": ".jshell",
   "mimetype": "text/x-java-source",
   "name": "java",
   "pygments_lexer": "java",
   "version": "11.0.20+8-post-Ubuntu-1ubuntu120.04"
  },
  "orig_nbformat": 4
 },
 "nbformat": 4,
 "nbformat_minor": 2
}
