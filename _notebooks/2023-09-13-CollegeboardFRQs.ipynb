{
 "cells": [
  {
   "cell_type": "markdown",
   "metadata": {},
   "source": [
    "---\n",
    "# this is YAML front matter\n",
    "layout: post\n",
    "title: Collegeboard FRQ\n",
    "description: 2021 number 2\n",
    "courses: { csa: {week: 5, categories: [4.A]} }\n",
    "categories: [C4.0]\n",
    "type: ccc\n",
    "---"
   ]
  },
  {
   "cell_type": "markdown",
   "metadata": {},
   "source": [
    "## The Solution\n",
    "Below is the function I contructed for the FRQ"
   ]
  },
  {
   "cell_type": "code",
   "execution_count": null,
   "metadata": {},
   "outputs": [],
   "source": [
    "public class CombinedTable { // class representing two combined SingleTable objects\n",
    "    private SingleTable table1; // defining the two tables that will make up the CombinedTable object\n",
    "    private SingleTable table2;\n",
    "\n",
    "    public CombinedTable(SingleTable t1, SingleTable t2) { // constructor function for setting the variables\n",
    "        table1 = t1; // sets the table1 and table2 variables to their respective SingleTable objects\n",
    "        table2 = t2;\n",
    "    }\n",
    "\n",
    "    public boolean canSeat(int num) { // function \n",
    "        return num <= table1.getNumSeats()+table2.getNumSeats()-2;\n",
    "    }\n",
    "\n",
    "    public double getDesirability() {\n",
    "        double desirability = (table1.getViewQuality()+table2.getViewQuality())/2;\n",
    "        if (table1.getHeight()!=table2.getHeight()) {\n",
    "            desirability-=10;\n",
    "        }\n",
    "        return desirability;\n",
    "    }\n",
    "}"
   ]
  },
  {
   "cell_type": "markdown",
   "metadata": {},
   "source": [
    "## Testing\n",
    "I test the solution with a custom made SingleTable function"
   ]
  },
  {
   "cell_type": "code",
   "execution_count": 17,
   "metadata": {},
   "outputs": [
    {
     "name": "stdout",
     "output_type": "stream",
     "text": [
      "true\n",
      "false\n",
      "65.0\n",
      "true\n",
      "62.5\n",
      "67.5\n"
     ]
    }
   ],
   "source": [
    "public class SingleTable {\n",
    "    private int numSeats; // instance variables shown\n",
    "    private int height;\n",
    "    private double viewQuality;\n",
    "\n",
    "    /** Constuctor sets up internal variables */\n",
    "    public SingleTable(int n, int h, double v) {\n",
    "        numSeats = n;\n",
    "        height = h;\n",
    "        viewQuality = v;\n",
    "    }\n",
    "\n",
    "    /**Returns the number of seats at this table. The value is always greater than or equal to 5 */\n",
    "    public int getNumSeats() {\n",
    "        /* implementation shown*/\n",
    "        return numSeats;\n",
    "    }\n",
    "\n",
    "    /** Returns the height of this table in centimeters. */\n",
    "    public int getHeight() {\n",
    "        /* implementation shown*/\n",
    "        return height;\n",
    "    }\n",
    "\n",
    "    /** Returns the quality of the view from this table. */\n",
    "    public double getViewQuality() {\n",
    "        /* implementation shown*/\n",
    "        return viewQuality;\n",
    "    }\n",
    "\n",
    "    /** Sets the quality of the view from this table to value*/ \n",
    "    public void setViewQuality(double value) {\n",
    "        /* implementation shown*/\n",
    "        viewQuality = value;\n",
    "    }\n",
    "}\n",
    "\n",
    "public class CombinedTable { // class representing two combined SingleTable objects\n",
    "    private SingleTable table1; // defining the two tables that will make up the CombinedTable object\n",
    "    private SingleTable table2;\n",
    "\n",
    "    public CombinedTable(SingleTable t1, SingleTable t2) { // constructor function for setting the variables\n",
    "        table1 = t1; // sets the table1 and table2 variables to their respective SingleTable objects\n",
    "        table2 = t2;\n",
    "    }\n",
    "\n",
    "    public boolean canSeat(int num) { // function \n",
    "        return num <= table1.getNumSeats()+table2.getNumSeats()-2;\n",
    "    }\n",
    "\n",
    "    public double getDesirability() {\n",
    "        double desirability = (table1.getViewQuality()+table2.getViewQuality())/2;\n",
    "        if (table1.getHeight()!=table2.getHeight()) {\n",
    "            desirability-=10;\n",
    "        }\n",
    "        return desirability;\n",
    "    }\n",
    "\n",
    "    public static void main(String[] args) {  \n",
    "        SingleTable t1 = new SingleTable(4,74,60.0);\n",
    "        SingleTable t2 = new SingleTable(8,74,70.0);\n",
    "        SingleTable t3 = new SingleTable(12,76,75.0);\n",
    "        CombinedTable c1 = new CombinedTable(t1, t2);\n",
    "        System.out.println(c1.canSeat(9));\n",
    "        System.out.println(c1.canSeat(11));\n",
    "        System.out.println(c1.getDesirability());\n",
    "        CombinedTable c2 = new CombinedTable(t2,t3);\n",
    "        System.out.println(c2.canSeat(18));\n",
    "        System.out.println(c2.getDesirability());\n",
    "        t2.setViewQuality(80);\n",
    "        System.out.println(c2.getDesirability());\n",
    "    }\n",
    "}\n",
    "\n",
    "CombinedTable.main(null);"
   ]
  }
 ],
 "metadata": {
  "kernelspec": {
   "display_name": "Java",
   "language": "java",
   "name": "java"
  },
  "language_info": {
   "codemirror_mode": "java",
   "file_extension": ".jshell",
   "mimetype": "text/x-java-source",
   "name": "java",
   "pygments_lexer": "java",
   "version": "11.0.20+8-post-Ubuntu-1ubuntu120.04"
  },
  "orig_nbformat": 4
 },
 "nbformat": 4,
 "nbformat_minor": 2
}
