{
 "cells": [
  {
   "cell_type": "markdown",
   "metadata": {},
   "source": [
    "---\n",
    "comments: true\n",
    "layout: post\n",
    "title: FRQ Mini-lab\n",
    "type: hacks\n",
    "courses: { compsci: {week: 4} }\n",
    "---"
   ]
  },
  {
   "cell_type": "markdown",
   "metadata": {},
   "source": [
    "## Question 1:\n",
    "(a) Write the WordMatch method scoreGuess. To determine the score to be returned,\n",
    "scoreGuess finds the number of times that guess occurs as a substring of secret and then multiplies that number by the square of the length of guess. Occurrences of guess may overlap within secret.\n",
    "\n",
    "Assume that the length of guess is less than or equal to the length of secret and that guess is not an empty string.\n",
    "The following examples show declarations of a WordMatch object. The tables show the outcomes of some possible calls to the scoreGuess method.\n",
    "\n",
    "(b) Write the WordMatch method findBetterGuess, which returns the better guess of its two String parameters, guess1 and guess2. If the scoreGuess method returns different values for guess1 and guess2, then the guess with the higher score is returned. If the scoreGuess method returns the same value for guess1 and guess2, then the alphabetically greater guess is returned.\n",
    "\n",
    "Complete a ScoreGuess Method:"
   ]
  },
  {
   "cell_type": "code",
   "execution_count": 1,
   "metadata": {},
   "outputs": [],
   "source": [
    "public class WordMatch {\n",
    "    private String secret;\n",
    "\n",
    "    public WordMatch(String word) {\n",
    "        secret = word;\n",
    "    }\n",
    "    public int scoreGuess(String guess) {\n",
    "        int guessLength = guess.length(); //Will be used to calculate score later\n",
    "\n",
    "        //Count occurrences of substring\n",
    "        int count = 0;\n",
    "        for (int i = 0; i < secret.length() - guessLength + 1; i++) {\n",
    "            if (secret.substring(i, i + guessLength).equals(guess)) {\n",
    "                count++;\n",
    "            }\n",
    "        }\n",
    "\n",
    "        return count * guessLength * guessLength; //Calculate and return score\n",
    "    }\n",
    "\n",
    "\n",
    "\n",
    "    \n",
    "    public String findBetterGuess(String guess1, String guess2) {\n",
    "        String returner = \"\";\n",
    "        int score1 = scoreGuess(guess1);  //calculate scores of the two guesses\n",
    "        int score2 = scoreGuess(guess2);\n",
    "        if (score1>score2) {    //compare the scores\n",
    "            returner = guess1;\n",
    "        }\n",
    "        else if (score2>score1) {\n",
    "            returner = guess2;\n",
    "        }\n",
    "        else if (score1==score2) {   // if the scores are the same, output the alphabetically higher guess\n",
    "            for (int i=0; i<guess1.length(); i++) {\n",
    "                char char1 = guess1.charAt(i);\n",
    "                char char2 = guess2.charAt(i);\n",
    "                if (char1==char2) {\n",
    "                    continue;\n",
    "                }\n",
    "                else if (char1>char2) {\n",
    "                    returner = guess1;\n",
    "                }\n",
    "                else if (char1<char2) {\n",
    "                    returner = guess2;\n",
    "                }\n",
    "            }\n",
    "            }\n",
    "        return returner;\n",
    "    }\n",
    "}\n"
   ]
  },
  {
   "cell_type": "markdown",
   "metadata": {},
   "source": [
    "Testing: "
   ]
  },
  {
   "cell_type": "code",
   "execution_count": 6,
   "metadata": {},
   "outputs": [
    {
     "name": "stdout",
     "output_type": "stream",
     "text": [
      "Testing with mississippi:\n",
      "4\n",
      "18\n",
      "36\n",
      "121\n",
      "issi\n",
      "issippi\n",
      "\n",
      "Testing with aaaabb:\n",
      "4\n",
      "12\n",
      "18\n",
      "16\n",
      "0\n",
      "aaa\n",
      "aabb\n"
     ]
    }
   ],
   "source": [
    "System.out.println(\"Testing with mississippi:\");\n",
    "WordMatch wordMatch = new WordMatch(\"mississippi\");\n",
    "System.out.println(wordMatch.scoreGuess(\"i\"));\n",
    "System.out.println(wordMatch.scoreGuess(\"iss\"));\n",
    "System.out.println(wordMatch.scoreGuess(\"issipp\"));\n",
    "System.out.println(wordMatch.scoreGuess(\"mississippi\"));\n",
    "System.out.println(wordMatch.findBetterGuess(\"is\", \"issi\"));\n",
    "System.out.println(wordMatch.findBetterGuess(\"issi\", \"issippi\"));\n",
    "\n",
    "System.out.println(\"\\nTesting with aaaabb:\");\n",
    "WordMatch wordMatch2 = new WordMatch(\"aaaabb\");\n",
    "System.out.println(wordMatch2.scoreGuess(\"a\"));\n",
    "System.out.println(wordMatch2.scoreGuess(\"aa\"));\n",
    "System.out.println(wordMatch2.scoreGuess(\"aaa\"));\n",
    "System.out.println(wordMatch2.scoreGuess(\"aabb\"));\n",
    "System.out.println(wordMatch2.scoreGuess(\"c\"));\n",
    "System.out.println(wordMatch2.findBetterGuess(\"aa\", \"aaa\"));\n",
    "System.out.println(wordMatch2.findBetterGuess(\"aabb\", \"aa\"));"
   ]
  },
  {
   "cell_type": "code",
   "execution_count": null,
   "metadata": {},
   "outputs": [],
   "source": []
  }
 ],
 "metadata": {
  "kernelspec": {
   "display_name": "Java",
   "language": "java",
   "name": "java"
  },
  "language_info": {
   "codemirror_mode": "java",
   "file_extension": ".jshell",
   "mimetype": "text/x-java-source",
   "name": "Java",
   "pygments_lexer": "java",
   "version": "11.0.20+8-post-Ubuntu-1ubuntu122.04"
  }
 },
 "nbformat": 4,
 "nbformat_minor": 2
}
