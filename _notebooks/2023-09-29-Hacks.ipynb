{
 "cells": [
  {
   "cell_type": "markdown",
   "metadata": {},
   "source": [
    "---\n",
    "comments: true\n",
    "layout: post\n",
    "title: Object Classes in Programming\n",
    "type: hacks\n",
    "courses: { compsci: {week: 7} }\n",
    "---"
   ]
  },
  {
   "cell_type": "markdown",
   "metadata": {},
   "source": [
    "# **Object Classes in Programming**\n",
    "> Please complete the following exercises and questions related to object classes in programming.\n",
    "***\n",
    "## **Exercise 1: Class Creation**\n",
    "\n",
    "#### **1.** Create a class named \"Person\" with the following attributes:\n",
    "- **Name**\n",
    "- **Age**\n",
    "- **Address**\n",
    "\n",
    "#### **2.** Implement a constructor method that initializes these attributes.\n",
    "\n",
    "#### **3.** Create an instance of the \"Person\" class and populate it with sample data.\n",
    "***\n",
    "## **Example**\n",
    "Do not copy (we can tell)"
   ]
  },
  {
   "cell_type": "code",
   "execution_count": null,
   "metadata": {
    "vscode": {
     "languageId": "java"
    }
   },
   "outputs": [],
   "source": [
    "public class Person {\n",
    "    private String name;\n",
    "    private int age;\n",
    "    private String address;\n",
    "\n",
    "    public Person(String name, int age, String address) {\n",
    "        this.name = name;\n",
    "        this.age = age;\n",
    "        this.address = address;\n",
    "    }\n",
    "\n",
    "    public void displayInfo() {\n",
    "        System.out.println(\"Name: \" + name);\n",
    "        System.out.println(\"Age: \" + age);\n",
    "        System.out.println(\"Address: \" + address);\n",
    "    }\n",
    "\n",
    "    // Getter and setter methods for encapsulation\n",
    "    public String getName() {\n",
    "        return name;\n",
    "    }\n",
    "\n",
    "    public void setName(String name) {\n",
    "        this.name = name;\n",
    "    }\n",
    "\n",
    "    public int getAge() {\n",
    "        return age;\n",
    "    }\n",
    "\n",
    "    public void setAge(int age) {\n",
    "        this.age = age;\n",
    "    }\n",
    "\n",
    "    public String getAddress() {\n",
    "        return address;\n",
    "    }\n",
    "\n",
    "    public void setAddress(String address) {\n",
    "        this.address = address;\n",
    "    }\n",
    "}\n"
   ]
  },
  {
   "cell_type": "markdown",
   "metadata": {},
   "source": [
    "***\n",
    "## **Exercise 2: Class Inheritance**\n",
    "\n",
    "#### **1.** Create a subclass named \"Student\" that inherits from the \"Person\" class.\n",
    "\n",
    "#### **2.** Add an attribute to the \"Student\" class for their student ID.\n",
    "\n",
    "#### **3.** Implement a constructor for the \"Student\" class that includes the student ID along with the attributes inherited from the \"Person\" class.\n",
    "***\n",
    "## **Example**\n",
    "Do not copy (we can tell)"
   ]
  },
  {
   "cell_type": "code",
   "execution_count": null,
   "metadata": {
    "vscode": {
     "languageId": "java"
    }
   },
   "outputs": [],
   "source": [
    "public class Student extends Person {\n",
    "    private int studentId;\n",
    "\n",
    "    public Student(String name, int age, String address, int studentId) {\n",
    "        super(name, age, address);\n",
    "        this.studentId = studentId;\n",
    "    }\n",
    "\n",
    "    public void displayStudentInfo() {\n",
    "        super.displayInfo();\n",
    "        System.out.println(\"Student ID: \" + studentId);\n",
    "    }\n",
    "}\n"
   ]
  },
  {
   "cell_type": "markdown",
   "metadata": {},
   "source": [
    "***\n",
    "## **Exercise 3: Polymorphism**\n",
    "\n",
    "#### **1.** Create a function that takes an instance of either a \"Person\" or \"Student\" as an argument and displays their information using the appropriate method (either \"display_info\" or \"display_student_info\").\n",
    "***\n",
    "## **Example**\n",
    "Do not copy (we can tell)"
   ]
  },
  {
   "cell_type": "code",
   "execution_count": null,
   "metadata": {
    "vscode": {
     "languageId": "java"
    }
   },
   "outputs": [],
   "source": [
    "public class Main {\n",
    "    public static void displayPersonInfo(Person person) {\n",
    "        person.displayInfo();\n",
    "    }\n",
    "\n",
    "    public static void main(String[] args) {\n",
    "        // Creating instances of Person and Student\n",
    "        Person person = new Person(\"John Doe\", 30, \"123 Main St\");\n",
    "        Student student = new Student(\"Alice Smith\", 20, \"456 Elm St\", 12345);\n",
    "\n",
    "        // Displaying information using polymorphism\n",
    "        displayPersonInfo(person);\n",
    "        displayPersonInfo(student); // Calls the appropriate method based on the object type\n",
    "    }\n",
    "}\n"
   ]
  },
  {
   "cell_type": "markdown",
   "metadata": {},
   "source": [
    "***\n",
    "## **Questions:**\n",
    "\n",
    "#### **1.** What is the concept of inheritance in object-oriented programming, and how does it relate to classes?\n",
    "\n",
    "#### **2.** In what situations might you choose composition (object composition) over inheritance when designing classes in OOP? Provide an example scenario.\n",
    "***"
   ]
  },
  {
   "cell_type": "markdown",
   "metadata": {},
   "source": [
    "# **Quiz**\n",
    "#### **Click [HERE](https://forms.gle/r6cEhQUqaXMpyNyr7) to take the quiz. Please include your score and your email in your Hacks.**"
   ]
  }
 ],
 "metadata": {
  "language_info": {
   "name": "python"
  },
  "orig_nbformat": 4
 },
 "nbformat": 4,
 "nbformat_minor": 2
}
