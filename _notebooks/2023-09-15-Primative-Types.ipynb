{
 "cells": [
  {
   "cell_type": "markdown",
   "metadata": {},
   "source": [
    "---\n",
    "comments: true\n",
    "layout: post\n",
    "title: Primitive Types\n",
    "type: hacks\n",
    "courses: { compsci: {week: 4} }\n",
    "---"
   ]
  },
  {
   "cell_type": "markdown",
   "metadata": {},
   "source": [
    "Primitive types are the most simple type of variable. They are simply store a short amount of raw data, and are not associated with another class.\n",
    "\n",
    "Here are the different primitive types:\n",
    "- byte \n",
    "- short \n",
    "- int\n",
    "- long\n",
    "- float\n",
    "- double\n",
    "- boolean\n",
    "- char\n",
    "\n",
    "For this class you need to know:"
   ]
  },
  {
   "cell_type": "code",
   "execution_count": 3,
   "metadata": {
    "vscode": {
     "languageId": "java"
    }
   },
   "outputs": [],
   "source": [
    "int primitive1 = 0;\n",
    "double primitive2 = 1.1;\n",
    "boolean primitive3 = true;\n",
    "char primitive4 = 'a';"
   ]
  },
  {
   "cell_type": "markdown",
   "metadata": {},
   "source": [
    "***Java is a strongly typed language so you always need to declare the type of the variable.***\n",
    "\n",
    "Variables can also be declared on their own or in the same line as when they are given a value:"
   ]
  },
  {
   "cell_type": "code",
   "execution_count": 4,
   "metadata": {
    "vscode": {
     "languageId": "java"
    }
   },
   "outputs": [],
   "source": [
    "int primitive5;\n",
    "primitive4 = 1;\n",
    "\n",
    "//Or...\n",
    "int primitive6 = 1;"
   ]
  }
 ],
 "metadata": {
  "kernelspec": {
   "display_name": "Java",
   "language": "java",
   "name": "java"
  },
  "language_info": {
   "codemirror_mode": "java",
   "file_extension": ".jshell",
   "mimetype": "text/x-java-source",
   "name": "Java",
   "pygments_lexer": "java",
   "version": "20.0.2+9-78"
  },
  "orig_nbformat": 4
 },
 "nbformat": 4,
 "nbformat_minor": 2
}
