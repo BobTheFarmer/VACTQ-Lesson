{
 "cells": [
  {
   "cell_type": "markdown",
   "metadata": {},
   "source": [
    "---\n",
    "comments: true\n",
    "layout: post\n",
    "title: FRQ Mini-lab\n",
    "type: hacks\n",
    "courses: { compsci: {week: 4} }\n",
    "---"
   ]
  },
  {
   "cell_type": "markdown",
   "metadata": {},
   "source": [
    "## FRQ 2021 Question 1:\n",
    "(a) Write the WordMatch method scoreGuess. To determine the score to be returned,\n",
    "scoreGuess finds the number of times that guess occurs as a substring of secret and then multiplies that number by the square of the length of guess. Occurrences of guess may overlap within secret.\n",
    "\n",
    "Assume that the length of guess is less than or equal to the length of secret and that guess is not an empty string.\n",
    "The following examples show declarations of a WordMatch object. The tables show the outcomes of some possible calls to the scoreGuess method.\n",
    "\n",
    "(b) Write the WordMatch method findBetterGuess, which returns the better guess of its two String parameters, guess1 and guess2. If the scoreGuess method returns different values for guess1 and guess2, then the guess with the higher score is returned. If the scoreGuess method returns the same value for guess1 and guess2, then the alphabetically greater guess is returned.\n",
    "\n",
    "Complete a ScoreGuess Method:"
   ]
  },
  {
   "cell_type": "markdown",
   "metadata": {},
   "source": [
    "Concepts that are helpful to know (from ChatGPT!):\n",
    "1. Classes:\n",
    "    a. Classes are templates for creating objects in object-oriented programming.\n",
    "    b. Constructor: The class has a constructor, WordMatch(String word), which is used to initialize the secret instance variable when an object of the class is created.\n",
    "2. Variables\n",
    "    a. Instance Variables: private String secret; declares a private instance variable called secret, which stores a string.\n",
    "    b. Local Variables-variables that are declared within a specific block of code, such as a method, constructor, or a block of code within a method.\n",
    "3. Methods\n",
    "    a. self-contained block of code within a program or class that performs a specific task or action.\n"
   ]
  },
  {
   "cell_type": "code",
   "execution_count": 1,
   "metadata": {
    "vscode": {
     "languageId": "java"
    }
   },
   "outputs": [],
   "source": [
    "public class WordMatch {\n",
    "    private String secret;\n",
    "\n",
    "    public WordMatch(String word) {\n",
    "        secret = word;\n",
    "    }\n",
    "    public int scoreGuess(String guess) {\n",
    "        int guessLength = guess.length(); //Will be used to calculate score later\n",
    "\n",
    "        //Count occurrences of substring\n",
    "        int count = 0;\n",
    "        for (int i = 0; i < secret.length() - guessLength + 1; i++) {\n",
    "            if (secret.substring(i, i + guessLength).equals(guess)) {\n",
    "                count++;\n",
    "            }\n",
    "        }\n",
    "\n",
    "        return count * guessLength * guessLength; //Calculate and return score\n",
    "    }\n",
    "\n",
    "\n",
    "\n",
    "    \n",
    "    public String findBetterGuess(String guess1, String guess2) {\n",
    "        String returner = \"\";\n",
    "        int score1 = scoreGuess(guess1);  //calculate scores of the two guesses\n",
    "        int score2 = scoreGuess(guess2);\n",
    "        if (score1>score2) {    //compare the scores\n",
    "            returner = guess1;\n",
    "        }\n",
    "        else if (score2>score1) {\n",
    "            returner = guess2;\n",
    "        }\n",
    "        else if (score1==score2) {   // if the scores are the same, output the alphabetically higher guess\n",
    "            for (int i=0; i<guess1.length(); i++) {\n",
    "                char char1 = guess1.charAt(i);\n",
    "                char char2 = guess2.charAt(i);\n",
    "                if (char1==char2) {\n",
    "                    continue;\n",
    "                }\n",
    "                else if (char1>char2) {\n",
    "                    returner = guess1;\n",
    "                    break;\n",
    "                }\n",
    "                else if (char1<char2) {\n",
    "                    returner = guess2;\n",
    "                    break;\n",
    "                }\n",
    "            }\n",
    "            }\n",
    "        return returner;\n",
    "    }\n",
    "}\n"
   ]
  },
  {
   "cell_type": "markdown",
   "metadata": {},
   "source": [
    "Testing: "
   ]
  },
  {
   "cell_type": "code",
   "execution_count": 2,
   "metadata": {
    "vscode": {
     "languageId": "java"
    }
   },
   "outputs": [
    {
     "name": "stdout",
     "output_type": "stream",
     "text": [
      "Testing with mississippi:\n",
      "4\n",
      "18\n",
      "36\n",
      "121\n",
      "iss\n",
      "issipp\n",
      "\n",
      "Testing with aaaabb:\n",
      "4\n",
      "12\n",
      "18\n",
      "16\n",
      "0\n",
      "aa\n",
      "aaa\n"
     ]
    }
   ],
   "source": [
    "System.out.println(\"Testing with mississippi:\");\n",
    "WordMatch wordMatch = new WordMatch(\"mississippi\");\n",
    "System.out.println(wordMatch.scoreGuess(\"i\"));\n",
    "System.out.println(wordMatch.scoreGuess(\"iss\"));\n",
    "System.out.println(wordMatch.scoreGuess(\"issipp\"));\n",
    "System.out.println(wordMatch.scoreGuess(\"mississippi\"));\n",
    "System.out.println(wordMatch.findBetterGuess(\"i\", \"iss\"));\n",
    "System.out.println(wordMatch.findBetterGuess(\"issipp\", \"iss\"));\n",
    "\n",
    "System.out.println(\"\\nTesting with aaaabb:\");\n",
    "WordMatch wordMatch2 = new WordMatch(\"aaaabb\");\n",
    "System.out.println(wordMatch2.scoreGuess(\"a\"));\n",
    "System.out.println(wordMatch2.scoreGuess(\"aa\"));\n",
    "System.out.println(wordMatch2.scoreGuess(\"aaa\"));\n",
    "System.out.println(wordMatch2.scoreGuess(\"aabb\"));\n",
    "System.out.println(wordMatch2.scoreGuess(\"c\"));\n",
    "System.out.println(wordMatch2.findBetterGuess(\"a\", \"aa\"));\n",
    "System.out.println(wordMatch2.findBetterGuess(\"aaa\", \"aabb\"));"
   ]
  },
  {
   "cell_type": "markdown",
   "metadata": {},
   "source": [
    "## The Solution for #2\n",
    "Below is the function I contructed for the FRQ"
   ]
  },
  {
   "cell_type": "code",
   "execution_count": 2,
   "metadata": {
    "vscode": {
     "languageId": "java"
    }
   },
   "outputs": [],
   "source": [
    "public class CombinedTable { // class representing two combined SingleTable objects\n",
    "    private SingleTable table1; // defining the two tables that will make up the CombinedTable object\n",
    "    private SingleTable table2;\n",
    "\n",
    "    public CombinedTable(SingleTable t1, SingleTable t2) { // constructor function for setting the variables\n",
    "        table1 = t1; // sets the table1 and table2 variables to their respective SingleTable objects\n",
    "        table2 = t2;\n",
    "    }\n",
    "\n",
    "    public boolean canSeat(int num) { // function \n",
    "        return num <= table1.getNumSeats()+table2.getNumSeats()-2;\n",
    "    }\n",
    "\n",
    "    public double getDesirability() {\n",
    "        double desirability = (table1.getViewQuality()+table2.getViewQuality())/2;\n",
    "        if (table1.getHeight()!=table2.getHeight()) {\n",
    "            desirability-=10;\n",
    "        }\n",
    "        return desirability;\n",
    "    }\n",
    "}"
   ]
  },
  {
   "cell_type": "markdown",
   "metadata": {},
   "source": [
    "## Testing\n",
    "I test the solution with a custom made SingleTable function"
   ]
  },
  {
   "cell_type": "code",
   "execution_count": 1,
   "metadata": {
    "vscode": {
     "languageId": "java"
    }
   },
   "outputs": [
    {
     "name": "stdout",
     "output_type": "stream",
     "text": [
      "true\n",
      "false\n",
      "65.0\n",
      "true\n",
      "62.5\n",
      "67.5\n"
     ]
    }
   ],
   "source": [
    "public class SingleTable {\n",
    "    private int numSeats; // instance variables shown\n",
    "    private int height;\n",
    "    private double viewQuality;\n",
    "\n",
    "    /** Constuctor sets up internal variables */\n",
    "    public SingleTable(int n, int h, double v) {\n",
    "        numSeats = n;\n",
    "        height = h;\n",
    "        viewQuality = v;\n",
    "    }\n",
    "\n",
    "    /**Returns the number of seats at this table. The value is always greater than or equal to 5 */\n",
    "    public int getNumSeats() {\n",
    "        /* implementation shown*/\n",
    "        return numSeats;\n",
    "    }\n",
    "\n",
    "    /** Returns the height of this table in centimeters. */\n",
    "    public int getHeight() {\n",
    "        /* implementation shown*/\n",
    "        return height;\n",
    "    }\n",
    "\n",
    "    /** Returns the quality of the view from this table. */\n",
    "    public double getViewQuality() {\n",
    "        /* implementation shown*/\n",
    "        return viewQuality;\n",
    "    }\n",
    "\n",
    "    /** Sets the quality of the view from this table to value*/ \n",
    "    public void setViewQuality(double value) {\n",
    "        /* implementation shown*/\n",
    "        viewQuality = value;\n",
    "    }\n",
    "}\n",
    "\n",
    "public class CombinedTable { // class representing two combined SingleTable objects\n",
    "    private SingleTable table1; // defining the two tables that will make up the CombinedTable object\n",
    "    private SingleTable table2;\n",
    "\n",
    "    public CombinedTable(SingleTable t1, SingleTable t2) { // constructor function for setting the variables\n",
    "        table1 = t1; // sets the table1 and table2 variables to their respective SingleTable objects\n",
    "        table2 = t2;\n",
    "    }\n",
    "\n",
    "    public boolean canSeat(int num) { // function \n",
    "        return num <= table1.getNumSeats()+table2.getNumSeats()-2;\n",
    "    }\n",
    "\n",
    "    public double getDesirability() {\n",
    "        double desirability = (table1.getViewQuality()+table2.getViewQuality())/2;\n",
    "        if (table1.getHeight()!=table2.getHeight()) {\n",
    "            desirability-=10;\n",
    "        }\n",
    "        return desirability;\n",
    "    }\n",
    "\n",
    "    public static void main(String[] args) {  \n",
    "        SingleTable t1 = new SingleTable(4,74,60.0);\n",
    "        SingleTable t2 = new SingleTable(8,74,70.0);\n",
    "        SingleTable t3 = new SingleTable(12,76,75.0);\n",
    "        CombinedTable c1 = new CombinedTable(t1, t2);\n",
    "        System.out.println(c1.canSeat(9));\n",
    "        System.out.println(c1.canSeat(11));\n",
    "        System.out.println(c1.getDesirability());\n",
    "        CombinedTable c2 = new CombinedTable(t2,t3);\n",
    "        System.out.println(c2.canSeat(18));\n",
    "        System.out.println(c2.getDesirability());\n",
    "        t2.setViewQuality(80);\n",
    "        System.out.println(c2.getDesirability());\n",
    "    }\n",
    "}\n",
    "\n",
    "CombinedTable.main(null);"
   ]
  },
  {
   "cell_type": "markdown",
   "metadata": {},
   "source": [
    "# AP Computer Science A Free-Response Question #3\n",
    "> SHOW ALL YOUR WORK. REMEMBER THAT PROGRAM SEGMENTS ARE TO BE WRITTEN IN JAVA. You may plan your answers in this orange booklet, but no credit will be given for anything written in this booklet. You will only earn credit for what you write in the separate Free Response booklet."
   ]
  },
  {
   "cell_type": "code",
   "execution_count": null,
   "metadata": {
    "vscode": {
     "languageId": "java"
    }
   },
   "outputs": [],
   "source": [
    "public void addMembers(String[] names, int gradYear) {\n",
    "    // Iterate through the names array and add each member to memberList\n",
    "    for (String name : names) {\n",
    "        // Create a new ClubMember object with the provided name, gradYear, and good standing status\n",
    "        ClubMember newMember = new ClubMember(name, gradYear, true);\n",
    "        \n",
    "        // Add the new member to the memberList\n",
    "        memberList.add(newMember);\n",
    "    }\n",
    "}"
   ]
  },
  {
   "cell_type": "markdown",
   "metadata": {},
   "source": [
    "### In this code:\n",
    "* We iterate through the names array, which contains the names of the new club members.\n",
    "* For each name, we create a new ClubMember object with the provided name, gradYear, and set their initial standing status to true (assuming true represents \"good standing\").\n",
    "* We then add this new member to the memberList using the add method, assuming that memberList is some kind of collection or list (e.g., an ArrayList).\n",
    "\n",
    "Make sure that you have the ClubMember class defined with appropriate attributes and constructor. The addMembers method assumes that you have an instance variable memberList to store the club members, and it adds new members to this list."
   ]
  },
  {
   "cell_type": "markdown",
   "metadata": {},
   "source": [
    "### Here's the removeMembers method that performs the described actions:"
   ]
  },
  {
   "cell_type": "code",
   "execution_count": null,
   "metadata": {
    "vscode": {
     "languageId": "java"
    }
   },
   "outputs": [],
   "source": [
    "import java.util.ArrayList;\n",
    "import java.util.Iterator;\n",
    "import java.util.List;\n",
    "\n",
    "public List<ClubMember> removeMembers(int year) {\n",
    "    // Create a list to store the graduated members in good standing\n",
    "    List<ClubMember> graduatedMembersInGoodStanding = new ArrayList<>();\n",
    "\n",
    "    // Create an iterator to traverse the memberList\n",
    "    Iterator<ClubMember> iterator = memberList.iterator();\n",
    "\n",
    "    while (iterator.hasNext()) {\n",
    "        ClubMember member = iterator.next();\n",
    "        if (member.getGradYear() <= year) {\n",
    "            // Check if the member has graduated\n",
    "            if (member.isInGoodStanding()) {\n",
    "                // Add the graduated member in good standing to the result list\n",
    "                graduatedMembersInGoodStanding.add(member);\n",
    "            }\n",
    "            // Remove the member from the memberList\n",
    "            iterator.remove();\n",
    "        }\n",
    "    }\n",
    "\n",
    "    // Return the list of graduated members in good standing\n",
    "    return graduatedMembersInGoodStanding;\n",
    "}\n"
   ]
  },
  {
   "cell_type": "code",
   "execution_count": null,
   "metadata": {
    "vscode": {
     "languageId": "java"
    }
   },
   "outputs": [],
   "source": [
    "### In this code:\n",
    "\n",
    "* We create a new ArrayList called graduatedMembersInGoodStanding to store the members who have graduated and are in good standing.\n",
    "* We use an iterator to traverse the memberList and check each member's graduation year and standing status.\n",
    "* If a member has graduated (their graduation year is less than or equal to the provided year parameter), we check if they are in good standing (isInGoodStanding() method). If they are, we add them to the graduatedMembersInGoodStanding list.\n",
    "* Regardless of their standing status, we remove the member from the memberList if they have graduated.\n",
    "* Finally, we return the graduatedMembersInGoodStanding list, which contains the members who have graduated and are in good standing."
   ]
  },
  {
   "cell_type": "markdown",
   "metadata": {},
   "source": [
    "### The removeMembers method in the ClubMembers class is designed to perform two main actions:\n",
    "\n",
    "1. Identify Graduated Members in Good Standing: It first iterates through the list of club members (memberList) and identifies members who have graduated based on a provided year parameter. Additionally, it checks whether these members are in good standing.\n",
    "\n",
    "2. Remove Graduated Members: After identifying graduated members, it removes them from the memberList, regardless of their standing status.\n",
    "\n",
    "3. Return Graduated Members in Good Standing: Finally, the method returns a list containing members who have both graduated and are in good standing.\n",
    "\n",
    "This method allows for efficient management of club membership by separating graduated members in good standing from the active member list while also maintaining a record of those members for further use or reporting."
   ]
  },
  {
   "cell_type": "markdown",
   "metadata": {},
   "source": [
    "### Complete the removeMembers method as described:"
   ]
  },
  {
   "cell_type": "code",
   "execution_count": null,
   "metadata": {
    "vscode": {
     "languageId": "java"
    }
   },
   "outputs": [],
   "source": [
    "public ArrayList<MemberInfo> removeMembers(int year)"
   ]
  },
  {
   "cell_type": "markdown",
   "metadata": {},
   "source": [
    "### Assuming MemberInfo is a class that represents the information of a club member, here's the completed method:"
   ]
  },
  {
   "cell_type": "code",
   "execution_count": null,
   "metadata": {
    "vscode": {
     "languageId": "java"
    }
   },
   "outputs": [],
   "source": [
    "import java.util.ArrayList;\n",
    "import java.util.Iterator;\n",
    "\n",
    "public ArrayList<MemberInfo> removeMembers(int year) {\n",
    "    // Create a list to store the graduated members in good standing\n",
    "    ArrayList<MemberInfo> graduatedMembersInGoodStanding = new ArrayList<>();\n",
    "\n",
    "    // Create an iterator to traverse the memberList\n",
    "    Iterator<MemberInfo> iterator = memberList.iterator();\n",
    "\n",
    "    while (iterator.hasNext()) {\n",
    "        MemberInfo member = iterator.next();\n",
    "        if (member.getGradYear() <= year) {\n",
    "            // Check if the member has graduated and is in good standing\n",
    "            if (member.isInGoodStanding()) {\n",
    "                // Add the graduated member in good standing to the result list\n",
    "                graduatedMembersInGoodStanding.add(member);\n",
    "            }\n",
    "            // Remove the member from the memberList\n",
    "            iterator.remove();\n",
    "        }\n",
    "    }\n",
    "\n",
    "    // Return the list of graduated members in good standing\n",
    "    return graduatedMembersInGoodStanding;\n",
    "}"
   ]
  },
  {
   "cell_type": "markdown",
   "metadata": {},
   "source": [
    "### In this code, we assume that MemberInfo is a class that represents the information of a club member. The method performs the same actions as described in part (b):\n",
    "\n",
    "1. It identifies members who have graduated based on the provided year parameter and checks if they are in good standing (isInGoodStanding() method).\n",
    "\n",
    "2. If a member has graduated and is in good standing, they are added to the graduatedMembersInGoodStanding list.\n",
    "\n",
    "3. Regardless of their standing status, members who have graduated are removed from the memberList using an iterator.\n",
    "\n",
    "4. Finally, the method returns the graduatedMembersInGoodStanding list, which contains the members who have both graduated and are in good standing."
   ]
  },
  {
   "cell_type": "markdown",
   "metadata": {},
   "source": [
    "# Question #4\n",
    "This question involves manipulating a two-dimensional array of integers. You will write two static methods of the ArrayResizer class, which is shown below."
   ]
  },
  {
   "cell_type": "code",
   "execution_count": null,
   "metadata": {
    "vscode": {
     "languageId": "java"
    }
   },
   "outputs": [],
   "source": [
    "public class ArrayResizer { \n",
    "    // /** Returns true if and only if every value in row r of array2D is non-zero. * \n",
    "    //  * Precondition: r is a valid row index in array2D. * \n",
    "    //  * Postcondition: array2D is unchanged. */ \n",
    "    public static boolean isNonZeroRow(int[][] array2D, int r)\n",
    "    // { /* to be implemented in part (a) */ }\n",
    "     /** Returns the number of rows in array2D that contain all non-zero values. \n",
    "      * Postcondition: array2D is unchanged. \n",
    "        */ \n",
    "    public static int numNonZeroRows(int[][] array2D)\n",
    "     { /* implementation not shown */ }\n",
    "      /** Returns a new, possibly smaller, two-dimensional array that contains only rows \n",
    "       * * from array2D with no zeros, as described in part (b). \n",
    "       * * Precondition: array2D contains at least one column and at least one row with no zeros. \n",
    "       * * Postcondition: array2D is unchanged. */ \n",
    "    public static int[][] resize(int[][] array2D) \n",
    "    { /* to be implemented in part (b) */ } \n",
    "    }"
   ]
  },
  {
   "cell_type": "markdown",
   "metadata": {},
   "source": [
    "### Number 4 Question A\n",
    "\n",
    "A) Write the method isNonZeroRow, which returns true if and only if all elements in row r of a two-dimensional array array2D are not equal to zero. \n",
    "- For example, consider the following statement, which initializes a two-dimensional array\n",
    "\n",
    "![FRQ1](FRQ1.PNG)\n",
    "\n",
    "- Answer to question A:"
   ]
  },
  {
   "cell_type": "code",
   "execution_count": 5,
   "metadata": {
    "vscode": {
     "languageId": "java"
    }
   },
   "outputs": [],
   "source": [
    "public static boolean isNonZeroRow(int[][] array2D, int r) {\n",
    "    // Iterate through the elements in row r\n",
    "    for (int i = 0; i < array2D[r].length; i++) {\n",
    "        if (array2D[r][i] == 0) {\n",
    "            // If any element is equal to zero, return false immediately\n",
    "            return false;\n",
    "        }\n",
    "    }\n",
    "    \n",
    "    // If the loop completes without finding any zero element, return true\n",
    "    return true;\n",
    "}\n"
   ]
  },
  {
   "cell_type": "markdown",
   "metadata": {},
   "source": [
    "The **isNonZeroRow** method, when given a two-dimensional array **array2D** and a row index **r**, performs the following tasks:\n",
    "\n",
    "- It iterates through the elements in the specified row.\n",
    "- For each element in the row, it checks whether it is equal to zero.\n",
    "- If any element in the row is found to be zero during the iteration, the method immediately returns **false**, indicating that at least one zero is present in the row.\n",
    "- If the loop completes without finding any zero element, the method returns **true**, signifying that all elements in the row are non-zero.\n",
    "- This method adheres to the precondition that **r** is a valid row index and ensures the postcondition that the **array2D** remains unchanged after the operation.\n"
   ]
  },
  {
   "cell_type": "markdown",
   "metadata": {},
   "source": [
    "## Question B\n",
    "Write the method resize, which returns a new two-dimensional array containing only rows from array2D with all non-zero values. The elements in the new array should appear in the same order as the order in which they appeared in the original array"
   ]
  },
  {
   "cell_type": "code",
   "execution_count": 6,
   "metadata": {
    "vscode": {
     "languageId": "java"
    }
   },
   "outputs": [],
   "source": [
    "import java.util.Arrays;\n",
    "\n",
    "public class ArrayResizer {\n",
    "\n",
    "    // Helper method to check if a row contains all non-zero values\n",
    "    public static boolean isNonZeroRow(int[][] array2D, int r) {\n",
    "        for (int i = 0; i < array2D[r].length; i++) {\n",
    "            if (array2D[r][i] == 0) {\n",
    "                return false;\n",
    "            }\n",
    "        }\n",
    "        return true;\n",
    "    }\n",
    "\n",
    "    // Helper method to count the number of rows with all non-zero values\n",
    "    public static int numNonZeroRows(int[][] array2D) {\n",
    "        int count = 0;\n",
    "        for (int i = 0; i < array2D.length; i++) {\n",
    "            if (isNonZeroRow(array2D, i)) {\n",
    "                count++;\n",
    "            }\n",
    "        }\n",
    "        return count;\n",
    "    }\n",
    "\n",
    "    // Returns a new array containing only rows with all non-zero values\n",
    "    public static int[][] resize(int[][] array2D) {\n",
    "        int numNonZeroRows = numNonZeroRows(array2D);\n",
    "        int[][] result = new int[numNonZeroRows][];\n",
    "        int resultIndex = 0;\n",
    "        for (int i = 0; i < array2D.length; i++) {\n",
    "            if (isNonZeroRow(array2D, i)) {\n",
    "                result[resultIndex] = Arrays.copyOf(array2D[i], array2D[i].length);\n",
    "                resultIndex++;\n",
    "            }\n",
    "        }\n",
    "        return result;\n",
    "    }\n",
    "\n",
    "    public static void main(String[] args) {\n",
    "        int[][] arr = {\n",
    "            {2, 1, 0},\n",
    "            {1, 3, 2},\n",
    "            {0, 0, 0},\n",
    "            {4, 5, 6}\n",
    "        };\n",
    "\n",
    "        int[][] smaller = resize(arr);\n",
    "\n",
    "        // Print the contents of the 'smaller' array\n",
    "        for (int[] row : smaller) {\n",
    "            System.out.println(Arrays.toString(row));\n",
    "        }\n",
    "    }\n",
    "}\n"
   ]
  },
  {
   "cell_type": "markdown",
   "metadata": {},
   "source": [
    "The **ArrayResizer** class contains several methods for working with two-dimensional arrays in Java:\n",
    "\n",
    "- The `isNonZeroRow` method checks if all elements in a specified row are non-zero and returns true if they are, or false if there is at least one zero.\n",
    "- The `numNonZeroRows` method counts the number of rows in a two-dimensional array that contain all non-zero values.\n",
    "- The `resize` method creates a new array, smaller in size, containing only the rows from the original array with all non-zero values. It ensures the elements appear in the same order as in the original array.\n",
    "\n",
    "A `main` method demonstrates the usage of the `resize` method by initializing a sample two-dimensional array `arr`, calling `resize` to create a new array `smaller`, and then printing the contents of `smaller`. This class provides functionality for handling and resizing arrays based on non-zero values efficiently.\n"
   ]
  },
  {
   "cell_type": "markdown",
   "metadata": {},
   "source": [
    "### For `scoreGuess` Method:\n",
    "- **Method Purpose:** Calculates the score of a guessed word based on its occurrences in the secret word.\n",
    "- **Method Signature:** `public int scoreGuess(String guess)`\n",
    "- **Input Parameters:** \n",
    "  - `guess`: The guessed word to calculate the score for.\n",
    "- **Output:** Returns the score of the guessed word.\n",
    "- **Precondition:** The `guess` must be a valid string.\n",
    "- **Postcondition:** The `secret` remains unchanged after calling this method.\n",
    "\n",
    "### For `findBetterGuess` Method:\n",
    "- **Method Purpose:** Compares two guessed words and returns the one with a higher score. If the scores are equal, it returns the alphabetically higher guess.\n",
    "- **Method Signature:** `public String findBetterGuess(String guess1, String guess2)`\n",
    "- **Input Parameters:** \n",
    "  - `guess1`: The first guessed word to compare.\n",
    "  - `guess2`: The second guessed word to compare.\n",
    "- **Output:** Returns the better guess based on the scoring and alphabetical order.\n",
    "- **Precondition:** Both `guess1` and `guess2` must be valid strings.\n",
    "- **Postcondition:** The `secret` remains unchanged after calling this method.\n",
    "\n",
    "### Usage Example:\n",
    "- You can call these methods from within the `WordMatch` class. \n",
    "- To demonstrate usage, consider initializing a secret word, like `secret`, and using the `scoreGuess` method to calculate the score of a guess, like `guess`. These key points should help you understand and use the methods effectively.\n",
    "### For `isNonZeroRow` Method:\n",
    "\n",
    "- **Method Purpose:** Determines if all elements in a specified row of a 2D array are non-zero.\n",
    "- **Method Signature:** `public static boolean isNonZeroRow(int[][] array2D, int r)`\n",
    "- **Input Parameters:**\n",
    "  - `array2D`: The 2D array to examine.\n",
    "  - `r`: The row index to check for non-zero values.\n",
    "- **Output:** Returns `true` if all elements in the row are non-zero, otherwise returns `false`.\n",
    "- **Precondition:** The row index `r` must be valid for the given `array2D`.\n",
    "- **Postcondition:** The `array2D` remains unchanged after calling this method.\n",
    "\n",
    "### For `numNonZeroRows` Method:\n",
    "\n",
    "- **Method Purpose:** Counts the number of rows in a 2D array that contain only non-zero values.\n",
    "- **Method Signature:** `public static int numNonZeroRows(int[][] array2D)`\n",
    "- **Input Parameter:** `array2D`: The 2D array to count non-zero rows in.\n",
    "- **Output:** Returns the count of rows with all non-zero values.\n",
    "- **Precondition:** None specified.\n",
    "- **Postcondition:** The `array2D` remains unchanged after calling this method.\n",
    "\n",
    "### For `resize` Method:\n",
    "\n",
    "- **Method Purpose:** Creates a new 2D array containing only rows from the original array with all non-zero values.\n",
    "- **Method Signature:** `public static int[][] resize(int[][] array2D)`\n",
    "- **Input Parameter:** `array2D`: The original 2D array.\n",
    "- **Output:** Returns a new 2D array with non-zero rows from the original array.\n",
    "- **Precondition:** The `array2D` must contain at least one column and at least one row with no zeros.\n",
    "- **Postcondition:** The `array2D` remains unchanged after calling this method.\n",
    "\n",
    "### Usage Example:\n",
    "\n",
    "- You can call these methods from within the `ArrayResizer` class.\n",
    "- To demonstrate usage, consider initializing a 2D array, like `arr`, and using the `resize` method to create a smaller array, like `smaller`.\n",
    "\n",
    "These key points should help you understand and use the methods effectively."
   ]
  }
 ],
 "metadata": {
  "kernelspec": {
   "display_name": "Java",
   "language": "java",
   "name": "java"
  },
  "language_info": {
   "codemirror_mode": "java",
   "file_extension": ".jshell",
   "mimetype": "text/x-java-source",
   "name": "Java",
   "pygments_lexer": "java",
   "version": "11.0.20+8-post-Ubuntu-1ubuntu122.04"
  }
 },
 "nbformat": 4,
 "nbformat_minor": 2
}
