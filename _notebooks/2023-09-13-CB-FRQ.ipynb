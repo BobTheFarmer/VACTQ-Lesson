{
 "cells": [
  {
   "cell_type": "markdown",
   "metadata": {},
   "source": [
    "---\n",
    "comments: true\n",
    "layout: post\n",
    "title: FRQ Mini-lab\n",
    "type: hacks\n",
    "courses: { csa: {week: 4} }\n",
    "---"
   ]
  },
  {
   "cell_type": "markdown",
   "metadata": {},
   "source": [
    "## Question 1:\n",
    "(a) Write the WordMatch method scoreGuess. To determine the score to be returned,\n",
    "scoreGuess finds the number of times that guess occurs as a substring of secret and then multiplies that number by the square of the length of guess. Occurrences of guess may overlap within secret.\n",
    "\n",
    "Assume that the length of guess is less than or equal to the length of secret and that guess is not an empty string.\n",
    "The following examples show declarations of a WordMatch object. The tables show the outcomes of some possible calls to the scoreGuess method.\n",
    "\n",
    "Complete a ScoreGuess Method:"
   ]
  },
  {
   "cell_type": "code",
   "execution_count": 1,
   "metadata": {
    "vscode": {
     "languageId": "java"
    }
   },
   "outputs": [],
   "source": [
    "public class WordMatch {\n",
    "    private String secret;\n",
    "\n",
    "    public WordMatch(String word) {\n",
    "        secret = word;\n",
    "    }\n",
    "    public int scoreGuess(String guess) {\n",
    "        int guessLength = guess.length(); //Will be used to calculate score later\n",
    "\n",
    "        //Count occurrences of substring\n",
    "        int count = 0;\n",
    "        for (int i = 0; i < secret.length() - guessLength + 1; i++) {\n",
    "            if (secret.substring(i, i + guessLength).equals(guess)) {\n",
    "                count++;\n",
    "            }\n",
    "        }\n",
    "\n",
    "        return count * guessLength * guessLength; //Calculate and return score\n",
    "    }\n",
    "}\n"
   ]
  },
  {
   "cell_type": "markdown",
   "metadata": {},
   "source": [
    "Testing: "
   ]
  },
  {
   "cell_type": "code",
   "execution_count": 5,
   "metadata": {
    "vscode": {
     "languageId": "java"
    }
   },
   "outputs": [
    {
     "name": "stdout",
     "output_type": "stream",
     "text": [
      "Testing with mississippi:\n"
     ]
    },
    {
     "name": "stdout",
     "output_type": "stream",
     "text": [
      "4\n",
      "18\n",
      "36\n",
      "121\n",
      "\n",
      "Testing with aaabb:\n",
      "4\n",
      "12\n",
      "18\n",
      "16\n",
      "0\n"
     ]
    }
   ],
   "source": [
    "System.out.println(\"Testing with mississippi:\");\n",
    "WordMatch wordMatch = new WordMatch(\"mississippi\");\n",
    "System.out.println(wordMatch.scoreGuess(\"i\"));\n",
    "System.out.println(wordMatch.scoreGuess(\"iss\"));\n",
    "System.out.println(wordMatch.scoreGuess(\"issipp\"));\n",
    "System.out.println(wordMatch.scoreGuess(\"mississippi\"));\n",
    "\n",
    "System.out.println(\"\\nTesting with aaaabb:\");\n",
    "WordMatch wordMatch2 = new WordMatch(\"aaaabb\");\n",
    "System.out.println(wordMatch2.scoreGuess(\"a\"));\n",
    "System.out.println(wordMatch2.scoreGuess(\"aa\"));\n",
    "System.out.println(wordMatch2.scoreGuess(\"aaa\"));\n",
    "System.out.println(wordMatch2.scoreGuess(\"aabb\"));\n",
    "System.out.println(wordMatch2.scoreGuess(\"c\"));"
   ]
  }
 ],
 "metadata": {
  "kernelspec": {
   "display_name": "Java",
   "language": "java",
   "name": "java"
  },
  "language_info": {
   "codemirror_mode": "java",
   "file_extension": ".jshell",
   "mimetype": "text/x-java-source",
   "name": "Java",
   "pygments_lexer": "java",
   "version": "20.0.2+9-78"
  },
  "orig_nbformat": 4
 },
 "nbformat": 4,
 "nbformat_minor": 2
}
