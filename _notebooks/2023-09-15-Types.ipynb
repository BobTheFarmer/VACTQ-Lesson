{
 "cells": [
  {
   "cell_type": "markdown",
   "metadata": {},
   "source": [
    "---\n",
    "comments: true\n",
    "layout: post\n",
    "title: Types\n",
    "type: hacks\n",
    "courses: { compsci: {week: 4} }\n",
    "---"
   ]
  },
  {
   "cell_type": "markdown",
   "metadata": {},
   "source": [
    "# Primitive Types\n",
    "\n",
    "Primitive types are the most simple type of variable. They are simply store a short amount of raw data, and are not associated with another class.\n",
    "\n",
    "Here are the different primitive types:\n",
    "- byte: An 8-bit signed two's complement integer.\n",
    "- short: A 16-bit signed two's complement integer.\n",
    "- int: A 32-bit signed two's complement integer.\n",
    "- long: A 64-bit signed two's complement integer.\n",
    "- float: A single-precision 32-bit IEEE 754 floating point.\n",
    "- double: A double-precision 64-bit IEEE 754 floating point.\n",
    "- boolean: Stores either true or false.\n",
    "- char: Stores a single character.\n",
    "\n",
    "For this class you need to know:"
   ]
  },
  {
   "cell_type": "code",
   "execution_count": 1,
   "metadata": {
    "vscode": {
     "languageId": "java"
    }
   },
   "outputs": [],
   "source": [
    "int primitive1 = 0;\n",
    "double primitive2 = 1.1;\n",
    "boolean primitive3 = true;\n",
    "char primitive4 = 'a';"
   ]
  },
  {
   "cell_type": "markdown",
   "metadata": {},
   "source": [
    "***Java is a strongly typed language so you always need to declare the type of the variable.***\n",
    "\n",
    "Variables can also be declared on their own or in the same line as when they are given a value:"
   ]
  },
  {
   "cell_type": "code",
   "execution_count": 2,
   "metadata": {
    "vscode": {
     "languageId": "java"
    }
   },
   "outputs": [],
   "source": [
    "int primitive5;\n",
    "primitive4 = 1;\n",
    "\n",
    "//Or...\n",
    "int primitive6 = 1;"
   ]
  },
  {
   "cell_type": "markdown",
   "metadata": {},
   "source": [
    "# Reference Types\n",
    "Some data types, like String, start with a capital letter. This is because they are not primiative, but are refrence types. They are called this because they refrence an object.\n",
    "> \"A reference type is a code object that is not stored directly where it is created, but that acts as a kind of pointer to a value stored elsewhere.\""
   ]
  },
  {
   "cell_type": "markdown",
   "metadata": {},
   "source": [
    "![Alt text](object-in-memory.png)"
   ]
  },
  {
   "cell_type": "code",
   "execution_count": 3,
   "metadata": {
    "vscode": {
     "languageId": "java"
    }
   },
   "outputs": [],
   "source": [
    "int integer = 7120; //\"int\" starts with a lowercase\n",
    "String string = \"abc\"; //\"String\" starts with an uppercase, because it is an object and not a primitive type"
   ]
  },
  {
   "cell_type": "markdown",
   "metadata": {},
   "source": [
    "## All Reference Types Reference Objects: String Example\n",
    "\n",
    "String is the most common reference type. Here is an example of how a String type is really just referencing an object."
   ]
  },
  {
   "cell_type": "code",
   "execution_count": 4,
   "metadata": {
    "vscode": {
     "languageId": "java"
    }
   },
   "outputs": [],
   "source": [
    "public class WorseString {\n",
    "    private char[] charArray;\n",
    "\n",
    "    public WorseString(String inputString) {\n",
    "        this.charArray = inputString.toCharArray();\n",
    "    }\n",
    "\n",
    "    public String getChars() {\n",
    "        return new String(this.charArray);\n",
    "    }\n",
    "\n",
    "    @Override\n",
    "    public String toString() {\n",
    "        return getChars();\n",
    "    }\n",
    "}"
   ]
  },
  {
   "cell_type": "code",
   "execution_count": 5,
   "metadata": {
    "vscode": {
     "languageId": "java"
    }
   },
   "outputs": [
    {
     "name": "stdout",
     "output_type": "stream",
     "text": [
      "Hello, World!\n"
     ]
    }
   ],
   "source": [
    "WorseString string = new WorseString(\"Hello, World!\");\n",
    "System.out.println(string);"
   ]
  },
  {
   "cell_type": "markdown",
   "metadata": {},
   "source": [
    "Therefore, these two things are the same:"
   ]
  },
  {
   "cell_type": "code",
   "execution_count": 6,
   "metadata": {
    "vscode": {
     "languageId": "java"
    }
   },
   "outputs": [],
   "source": [
    "String string = \"abc\";\n",
    "String string = new String(\"abc\");"
   ]
  },
  {
   "cell_type": "markdown",
   "metadata": {},
   "source": [
    "## Wrapper Classes"
   ]
  },
  {
   "cell_type": "markdown",
   "metadata": {},
   "source": [
    "For many operations in Java, you need to have a class. Some examples are:\n",
    "- **ArrayLists or HashMaps**\n",
    "- If you require nullability (meaning the value could be null)\n",
    "- Generics\n",
    "- Methods that require objects as input\n",
    "\n",
    "To accomplish this, we use a wrapper class. A wrapper class is essentially a class which 'wraps' the primitive type and makes it into an object rather than a primitive.\n",
    "\n",
    "What is a downside of using wrapper classes? Why not always use them?\n",
    "\n",
    "<spoiler>Increased memory usage</spoiler> "
   ]
  },
  {
   "cell_type": "code",
   "execution_count": 7,
   "metadata": {
    "vscode": {
     "languageId": "java"
    }
   },
   "outputs": [
    {
     "ename": "CompilationException",
     "evalue": "",
     "output_type": "error",
     "traceback": [
      "\u001b[1m\u001b[30m|   \u001b[1m\u001b[30mArrayList ArrayList = new ArrayList<\u001b[0m\u001b[1m\u001b[30m\u001b[41mint\u001b[0m\u001b[1m\u001b[30m>();\u001b[0m",
      "\u001b[1m\u001b[31munexpected type\u001b[0m",
      "\u001b[1m\u001b[31m  required: reference\u001b[0m",
      "\u001b[1m\u001b[31m  found:    int\u001b[0m",
      ""
     ]
    }
   ],
   "source": [
    "//This code fails\n",
    "ArrayList ArrayList = new ArrayList<int>();"
   ]
  },
  {
   "cell_type": "code",
   "execution_count": null,
   "metadata": {
    "vscode": {
     "languageId": "java"
    }
   },
   "outputs": [],
   "source": [
    "//This code works\n",
    "ArrayList ArrayList = new ArrayList<Integer>();"
   ]
  },
  {
   "cell_type": "markdown",
   "metadata": {},
   "source": [
    "<img src=\"/VACTQ-Lesson/download.jfif\" alt=\"wrapper\" width=\"400\"/>"
   ]
  },
  {
   "cell_type": "code",
   "execution_count": null,
   "metadata": {
    "vscode": {
     "languageId": "java"
    }
   },
   "outputs": [
    {
     "name": "stdout",
     "output_type": "stream",
     "text": [
      "17\n",
      "17\n",
      "3.9\n"
     ]
    }
   ],
   "source": [
    "public class Wrappers {\n",
    "    Integer ageWrapper = 17;\n",
    "    int age = Integer.parseInt(\"17\");\n",
    "    String gpaString = \"3.9\";\n",
    "    double gpaDouble = Double.parseDouble(gpaString);\n",
    "\n",
    "    public static void main(String[] args) {\n",
    "        Wrappers wrapper = new Wrappers();\n",
    "        System.out.println(wrapper.ageWrapper);\n",
    "        System.out.println(wrapper.age);\n",
    "        System.out.println(wrapper.gpaDouble);\n",
    "    }\n",
    "}\n",
    "Wrappers.main(null);"
   ]
  },
  {
   "cell_type": "markdown",
   "metadata": {},
   "source": [
    "## Enums\n",
    "What are they?\n",
    "<spoiler>Enums are a type of data, which allows a variable to be a predetermined set of values</spoiler>\n",
    "\n",
    "Uses\n",
    "* Examples: days of the week\n",
    "\n",
    "Things you can do with Enums\n",
    "* ordinal\n",
    "* switch\n",
    "* for loops"
   ]
  },
  {
   "cell_type": "code",
   "execution_count": null,
   "metadata": {
    "vscode": {
     "languageId": "java"
    }
   },
   "outputs": [
    {
     "name": "stdout",
     "output_type": "stream",
     "text": [
      "What is the third unit in AP CSA? Answer: BOOLEAN\n",
      "What is the unit is Classes in AP CSA? Answer: 2\n",
      "The selected unit is: array list\n",
      "PRIMITVE_DATA_TYPES\n",
      "CLASSES\n",
      "BOOLEAN\n",
      "ITERATION\n",
      "WRITING_CLASSES\n",
      "ARRAY\n",
      "ARRAY_LIST\n",
      "TWO_DIMENSIONAL_ARRAY\n",
      "INHERITANCE\n",
      "RECURSION\n"
     ]
    }
   ],
   "source": [
    "public class EnumTest { \n",
    "    enum Units {\n",
    "    PRIMITVE_DATA_TYPES,\n",
    "    CLASSES,\n",
    "    BOOLEAN,\n",
    "    ITERATION,\n",
    "    WRITING_CLASSES,\n",
    "    ARRAY,\n",
    "    ARRAY_LIST,\n",
    "    TWO_DIMENSIONAL_ARRAY,\n",
    "    INHERITANCE,\n",
    "    RECURSION;\n",
    "}\n",
    "public static void main(String[] args) { \n",
    "  System.out.println(\"What is the third unit in AP CSA? Answer: \" + Units.BOOLEAN);\n",
    "  Units classUnit = Units.CLASSES;\n",
    "  System.out.println(\"What is the unit is Classes in AP CSA? Answer: \" + (classUnit.ordinal() + 1));\n",
    "  Units selectedUnit = Units.ARRAY_LIST;\n",
    "\n",
    "  switch(selectedUnit) {\n",
    "    case PRIMITVE_DATA_TYPES:\n",
    "      System.out.println(\"The selected unit is: primitive data types\");\n",
    "      break;\n",
    "    case BOOLEAN:\n",
    "       System.out.println(\"The selected unit is: boolean\");\n",
    "      break;\n",
    "    case CLASSES:\n",
    "      System.out.println(\"The selected unit is: classes\");\n",
    "      break;\n",
    "    case ITERATION:\n",
    "      System.out.println(\"The selected unit is: iteration\");\n",
    "      break;\n",
    "    case WRITING_CLASSES:\n",
    "      System.out.println(\"The selected unit is: writing classes\");\n",
    "      break;\n",
    "    case ARRAY:\n",
    "      System.out.println(\"The selected unit is: array\");\n",
    "      break;\n",
    "    case ARRAY_LIST:\n",
    "      System.out.println(\"The selected unit is: array list\");\n",
    "      break;\n",
    "    case TWO_DIMENSIONAL_ARRAY:\n",
    "      System.out.println(\"The selected unit is: 2d array\");\n",
    "      break;\n",
    "    case INHERITANCE:\n",
    "      System.out.println(\"The selected unit is: inheritance\");\n",
    "      break;\n",
    "    case RECURSION:\n",
    "      System.out.println(\"The selected unit is: recursion\");\n",
    "      break;\n",
    "  }\n",
    "  for (Units allUnits: Units.values()) {\n",
    "    System.out.println(allUnits);\n",
    "  }\n",
    "} \n",
    "}\n",
    "EnumTest.main(null);"
   ]
  }
 ],
 "metadata": {
  "kernelspec": {
   "display_name": "Java",
   "language": "java",
   "name": "java"
  },
  "language_info": {
   "codemirror_mode": "java",
   "file_extension": ".jshell",
   "mimetype": "text/x-java-source",
   "name": "Java",
   "pygments_lexer": "java",
   "version": "20.0.2+9-78"
  },
  "orig_nbformat": 4
 },
 "nbformat": 4,
 "nbformat_minor": 2
}
