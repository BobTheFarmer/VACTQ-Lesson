{
 "cells": [
  {
   "cell_type": "code",
   "execution_count": 63,
   "metadata": {
    "vscode": {
     "languageId": "java"
    }
   },
   "outputs": [
    {
     "name": "stdout",
     "output_type": "stream",
     "text": [
      "123\n",
      "456\n",
      "789\n",
      "000\n"
     ]
    }
   ],
   "source": [
    "import java.util.ArrayList;\n",
    "import java.util.Random;\n",
    "\n",
    "public class Test {\n",
    "    public static void main(String[] args) {\n",
    "        Test test = new Test();\n",
    "        test.printKeypad();\n",
    "        test.randomIntList();\n",
    "    }\n",
    "\n",
    "    public void printKeypad() {\n",
    "        int[][] keypad = {\n",
    "            {1, 2, 3},\n",
    "            {4, 5, 6},\n",
    "            {7, 8, 9},\n",
    "            {0, 0, 0}\n",
    "        };\n",
    "\n",
    "        // Print\n",
    "        for (int i = 0; i < 4; i++) {\n",
    "            int[] row = keypad[i];\n",
    "            for (int j = 0; j < 3; j++) {\n",
    "                System.out.print(String.valueOf(row[j]));\n",
    "            }\n",
    "            System.out.println();\n",
    "        }\n",
    "    }\n",
    "\n",
    "    public void randomIntList() {\n",
    "        ArrayList<Integer> nums = new ArrayList<Integer>();\n",
    "        Random random = new Random();\n",
    "        for (int i = 0; i < 100; i++) {\n",
    "            nums.add(random.nextInt(10));\n",
    "        }\n",
    "\n",
    "        // Print the generated random numbers\n",
    "        System.out.println(\"Random Numbers:\");\n",
    "        for (Integer num : nums) {\n",
    "            System.out.print(num + \" \");\n",
    "        }\n",
    "    }\n",
    "}\n",
    "\n",
    "\n",
    "main(null);"
   ]
  }
 ],
 "metadata": {
  "kernelspec": {
   "display_name": "Java",
   "language": "java",
   "name": "java"
  },
  "language_info": {
   "codemirror_mode": "java",
   "file_extension": ".jshell",
   "mimetype": "text/x-java-source",
   "name": "Java",
   "pygments_lexer": "java",
   "version": "11.0.20+8-post-Ubuntu-1ubuntu120.04"
  },
  "orig_nbformat": 4
 },
 "nbformat": 4,
 "nbformat_minor": 2
}
